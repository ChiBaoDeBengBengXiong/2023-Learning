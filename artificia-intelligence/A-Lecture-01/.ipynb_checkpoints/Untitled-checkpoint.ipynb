{
 "cells": [
  {
   "cell_type": "markdown",
   "metadata": {},
   "source": [
    "## 答疑课程-01： \n",
    "\n",
    "1. qtable和 value_with_action 这两个table有什么区别？为什么要分开两个进行存储？\n",
    "2. t为什么要倒序[：：-1]\n"
   ]
  },
  {
   "cell_type": "markdown",
   "metadata": {},
   "source": [
    "回答：  1. \n",
    "\n",
    "我们最终的目的是为了获得一个Q-table\n",
    "+ $ Q_{table}[(state, action)] $ \n",
    "    + a = Q_Table[(state, a) for a in range(action_space)]\n",
    "+ $ Q_{table}[state] = [a1_v, a2_v, a2_v] $ \n",
    "    + np.argmax(Q_Table[state])\n",
    "\n",
    " 管理数据的时候方便：\n",
    " \n",
    "+ value_with_action 值得是之前的动作所有的记录\n",
    "+ Q_Table是最终希望得到的一个policy的表\n",
    "\n",
    "```python\n",
    "Q_state_with_action[(state, action)] = list()\n",
    "\n",
    "Q_Table[state][a_n] = np.mean(Q_state_with_action[(state, a_n)])\n",
    "```\n"
   ]
  },
  {
   "cell_type": "markdown",
   "metadata": {},
   "source": [
    "```python\n",
    "word_to_id = {}\n",
    "id_to_word = {}\n",
    "```"
   ]
  },
  {
   "cell_type": "markdown",
   "metadata": {},
   "source": [
    "回答：2"
   ]
  },
  {
   "cell_type": "markdown",
   "metadata": {},
   "source": [
    "episode = [(s1, a1, r1), (s2, a2, r2), .... (s_t, a_t, r_t)]\n",
    "\n",
    "我们需要知道任意一组出现过的s 或者 (s, a)的组合的$Goal$. RL整体的目标就是这个Goal\n",
    "越大越好。 \n",
    "+ s1 : r1 + r2 + .. rn\n",
    "+ s2 : r2 + r3 + ... rn \n",
    "+ s_{t-1} : r_{t-1} + r_t\n",
    "\n",
    "+ s1: \n",
    "    + sum()\n",
    "+ s2: \n",
    "    + G-s2 = G-s1 - r1\n",
    "+ s3: \n",
    "    + G-s3 = G-s2 - r2\n",
    "    \n",
    "我们的脑子里做这个问题的时候，是要求reward的累计。"
   ]
  },
  {
   "cell_type": "markdown",
   "metadata": {},
   "source": [
    "#### qtable里面记录的[0，0]就是指加牌和不加牌两个action得到$\\sum{reward}$的平均值是吗？如果不止两个action，有20个action，还是弄成这种list形式吗？"
   ]
  },
  {
   "cell_type": "markdown",
   "metadata": {},
   "source": [
    "```\n",
    "q_table = np.array(size=(state_space, action_space))\n",
    "action = np.argmax(q_table[state])\n",
    "```"
   ]
  }
 ],
 "metadata": {
  "kernelspec": {
   "display_name": "Python 3",
   "language": "python",
   "name": "python3"
  },
  "language_info": {
   "codemirror_mode": {
    "name": "ipython",
    "version": 3
   },
   "file_extension": ".py",
   "mimetype": "text/x-python",
   "name": "python",
   "nbconvert_exporter": "python",
   "pygments_lexer": "ipython3",
   "version": "3.7.3"
  }
 },
 "nbformat": 4,
 "nbformat_minor": 2
}
